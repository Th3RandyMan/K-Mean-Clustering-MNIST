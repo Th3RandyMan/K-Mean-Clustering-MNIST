{
 "cells": [
  {
   "cell_type": "markdown",
   "metadata": {},
   "source": [
    "# Title"
   ]
  },
  {
   "cell_type": "markdown",
   "metadata": {},
   "source": [
    "## Load and Preview data"
   ]
  },
  {
   "cell_type": "code",
   "execution_count": 3,
   "metadata": {},
   "outputs": [
    {
     "name": "stdout",
     "output_type": "stream",
     "text": [
      "Train data shape: (60000, 28, 28)\n",
      "Train labels shape: (60000,)\n",
      "Test data shape: (10000, 28, 28)\n",
      "Test labels shape: (10000,)\n"
     ]
    }
   ],
   "source": [
    "from keras.datasets import mnist\n",
    "import numpy as np\n",
    "\n",
    "(x_train, y_train), (x_test, y_test) = mnist.load_data()\n",
    "x_train = x_train.astype('float32') / 255.0\n",
    "x_test = x_test.astype('float32') / 255.0\n",
    "\n",
    "print(f\"Train data shape: {x_train.shape}\")\n",
    "print(f\"Train labels shape: {y_train.shape}\")\n",
    "print(f\"Test data shape: {x_test.shape}\")\n",
    "print(f\"Test labels shape: {y_test.shape}\")"
   ]
  },
  {
   "cell_type": "code",
   "execution_count": 4,
   "metadata": {},
   "outputs": [
    {
     "ename": "AttributeError",
     "evalue": "'NoneType' object has no attribute 'flat'",
     "output_type": "error",
     "traceback": [
      "\u001b[1;31m---------------------------------------------------------------------------\u001b[0m",
      "\u001b[1;31mAttributeError\u001b[0m                            Traceback (most recent call last)",
      "Cell \u001b[1;32mIn[4], line 2\u001b[0m\n\u001b[0;32m      1\u001b[0m \u001b[38;5;28;01mfrom\u001b[39;00m \u001b[38;5;21;01mimage_dictionary\u001b[39;00m \u001b[38;5;28;01mimport\u001b[39;00m ImageDictionary\n\u001b[1;32m----> 2\u001b[0m img_dict \u001b[38;5;241m=\u001b[39m \u001b[43mImageDictionary\u001b[49m\u001b[43m(\u001b[49m\u001b[43mx_train\u001b[49m\u001b[43m)\u001b[49m\n\u001b[0;32m      3\u001b[0m \u001b[38;5;28mprint\u001b[39m(img_dict)\n",
      "File \u001b[1;32mc:\\Users\\randa\\OneDrive - University of California, Davis\\Documents\\Davis\\2024 xSpring\\EEC 289A\\K-Mean-Clustering-MNIST\\image_dictionary.py:15\u001b[0m, in \u001b[0;36mImageDictionary.__init__\u001b[1;34m(self, images, n_clusters, patch_size, stride)\u001b[0m\n\u001b[0;32m     13\u001b[0m \u001b[38;5;28mself\u001b[39m\u001b[38;5;241m.\u001b[39mPhi \u001b[38;5;241m=\u001b[39m \u001b[38;5;28;01mNone\u001b[39;00m\n\u001b[0;32m     14\u001b[0m \u001b[38;5;28;01mif\u001b[39;00m images \u001b[38;5;129;01mis\u001b[39;00m \u001b[38;5;129;01mnot\u001b[39;00m \u001b[38;5;28;01mNone\u001b[39;00m:\n\u001b[1;32m---> 15\u001b[0m     \u001b[38;5;28;43mself\u001b[39;49m\u001b[38;5;241;43m.\u001b[39;49m\u001b[43mfit\u001b[49m\u001b[43m(\u001b[49m\u001b[43m)\u001b[49m\n",
      "File \u001b[1;32mc:\\Users\\randa\\OneDrive - University of California, Davis\\Documents\\Davis\\2024 xSpring\\EEC 289A\\K-Mean-Clustering-MNIST\\image_dictionary.py:38\u001b[0m, in \u001b[0;36mImageDictionary.fit\u001b[1;34m(self, images, n_clusters, patch_size, stride)\u001b[0m\n\u001b[0;32m     35\u001b[0m \u001b[38;5;28;01mif\u001b[39;00m \u001b[38;5;28mself\u001b[39m\u001b[38;5;241m.\u001b[39mstride \u001b[38;5;241m==\u001b[39m \u001b[38;5;241m-\u001b[39m\u001b[38;5;241m1\u001b[39m:\n\u001b[0;32m     36\u001b[0m     \u001b[38;5;28mself\u001b[39m\u001b[38;5;241m.\u001b[39mstride \u001b[38;5;241m=\u001b[39m stride\n\u001b[1;32m---> 38\u001b[0m \u001b[38;5;28;43mself\u001b[39;49m\u001b[38;5;241;43m.\u001b[39;49m\u001b[43m_build_dictionary\u001b[49m\u001b[43m(\u001b[49m\u001b[43m)\u001b[49m\n",
      "File \u001b[1;32mc:\\Users\\randa\\OneDrive - University of California, Davis\\Documents\\Davis\\2024 xSpring\\EEC 289A\\K-Mean-Clustering-MNIST\\image_dictionary.py:42\u001b[0m, in \u001b[0;36mImageDictionary._build_dictionary\u001b[1;34m(self)\u001b[0m\n\u001b[0;32m     40\u001b[0m \u001b[38;5;28;01mdef\u001b[39;00m \u001b[38;5;21m_build_dictionary\u001b[39m(\u001b[38;5;28mself\u001b[39m):\n\u001b[0;32m     41\u001b[0m     \u001b[38;5;66;03m#self.type = type(self.images.flat[0])\u001b[39;00m\n\u001b[1;32m---> 42\u001b[0m     \u001b[38;5;28mself\u001b[39m\u001b[38;5;241m.\u001b[39mX \u001b[38;5;241m=\u001b[39m \u001b[38;5;28mself\u001b[39m\u001b[38;5;241m.\u001b[39m_flatten(\u001b[38;5;28;43mself\u001b[39;49m\u001b[38;5;241;43m.\u001b[39;49m\u001b[43m_patches\u001b[49m\u001b[43m(\u001b[49m\u001b[43m)\u001b[49m)\n\u001b[0;32m     43\u001b[0m     \u001b[38;5;28mself\u001b[39m\u001b[38;5;241m.\u001b[39mX \u001b[38;5;241m-\u001b[39m\u001b[38;5;241m=\u001b[39m np\u001b[38;5;241m.\u001b[39mmean(\u001b[38;5;28mself\u001b[39m\u001b[38;5;241m.\u001b[39mX, axis\u001b[38;5;241m=\u001b[39m\u001b[38;5;241m0\u001b[39m)\n\u001b[0;32m     44\u001b[0m     \u001b[38;5;28mself\u001b[39m\u001b[38;5;241m.\u001b[39mX \u001b[38;5;241m/\u001b[39m\u001b[38;5;241m=\u001b[39m np\u001b[38;5;241m.\u001b[39mstd(\u001b[38;5;28mself\u001b[39m\u001b[38;5;241m.\u001b[39mX, axis\u001b[38;5;241m=\u001b[39m\u001b[38;5;241m0\u001b[39m)\n",
      "File \u001b[1;32mc:\\Users\\randa\\OneDrive - University of California, Davis\\Documents\\Davis\\2024 xSpring\\EEC 289A\\K-Mean-Clustering-MNIST\\image_dictionary.py:55\u001b[0m, in \u001b[0;36mImageDictionary._patches\u001b[1;34m(self, X)\u001b[0m\n\u001b[0;32m     53\u001b[0m height, width \u001b[38;5;241m=\u001b[39m X[\u001b[38;5;241m0\u001b[39m]\u001b[38;5;241m.\u001b[39mshape\n\u001b[0;32m     54\u001b[0m num_windows \u001b[38;5;241m=\u001b[39m (\u001b[38;5;28mint\u001b[39m((width\u001b[38;5;241m-\u001b[39m\u001b[38;5;28mself\u001b[39m\u001b[38;5;241m.\u001b[39mpatch_size)\u001b[38;5;241m/\u001b[39m\u001b[38;5;28mself\u001b[39m\u001b[38;5;241m.\u001b[39mstride)\u001b[38;5;241m+\u001b[39m\u001b[38;5;241m1\u001b[39m, \u001b[38;5;28mint\u001b[39m((height\u001b[38;5;241m-\u001b[39m\u001b[38;5;28mself\u001b[39m\u001b[38;5;241m.\u001b[39mpatch_size)\u001b[38;5;241m/\u001b[39m\u001b[38;5;28mself\u001b[39m\u001b[38;5;241m.\u001b[39mstride)\u001b[38;5;241m+\u001b[39m\u001b[38;5;241m1\u001b[39m)\n\u001b[1;32m---> 55\u001b[0m patches \u001b[38;5;241m=\u001b[39m np\u001b[38;5;241m.\u001b[39mzeros((\u001b[38;5;28mlen\u001b[39m(X), np\u001b[38;5;241m.\u001b[39mprod(num_windows), \u001b[38;5;28mself\u001b[39m\u001b[38;5;241m.\u001b[39mpatch_size, \u001b[38;5;28mself\u001b[39m\u001b[38;5;241m.\u001b[39mpatch_size), dtype\u001b[38;5;241m=\u001b[39m\u001b[38;5;28mtype\u001b[39m(X\u001b[38;5;241m.\u001b[39mflat[\u001b[38;5;241m0\u001b[39m]))\n\u001b[0;32m     57\u001b[0m \u001b[38;5;28;01mfor\u001b[39;00m k, image \u001b[38;5;129;01min\u001b[39;00m \u001b[38;5;28menumerate\u001b[39m(X):\n\u001b[0;32m     58\u001b[0m     \u001b[38;5;28;01mfor\u001b[39;00m i \u001b[38;5;129;01min\u001b[39;00m \u001b[38;5;28mrange\u001b[39m(\u001b[38;5;241m0\u001b[39m, height \u001b[38;5;241m-\u001b[39m \u001b[38;5;28mself\u001b[39m\u001b[38;5;241m.\u001b[39mpatch_size \u001b[38;5;241m+\u001b[39m \u001b[38;5;241m1\u001b[39m, \u001b[38;5;28mself\u001b[39m\u001b[38;5;241m.\u001b[39mstride):\n",
      "\u001b[1;31mAttributeError\u001b[0m: 'NoneType' object has no attribute 'flat'"
     ]
    }
   ],
   "source": [
    "from image_dictionary import ImageDictionary\n",
    "img_dict = ImageDictionary(x_train)\n",
    "print(img_dict)"
   ]
  },
  {
   "cell_type": "code",
   "execution_count": 33,
   "metadata": {},
   "outputs": [
    {
     "name": "stdout",
     "output_type": "stream",
     "text": [
      "<class 'numpy.ndarray'>\n",
      "<class 'numpy.float32'>\n",
      "(47040000,)\n"
     ]
    }
   ],
   "source": [
    "print(type(x_train))\n",
    "print(type(x_train.flat[0]))"
   ]
  },
  {
   "cell_type": "code",
   "execution_count": 34,
   "metadata": {},
   "outputs": [
    {
     "name": "stdout",
     "output_type": "stream",
     "text": [
      "ZMQInteractiveShell\n"
     ]
    }
   ],
   "source": [
    "print(get_ipython().__class__.__name__)"
   ]
  },
  {
   "cell_type": "code",
   "execution_count": 38,
   "metadata": {},
   "outputs": [
    {
     "name": "stdout",
     "output_type": "stream",
     "text": [
      "14\n",
      "14.285714285714286\n"
     ]
    }
   ],
   "source": [
    "import numpy as np\n",
    "a = 200\n",
    "b = np.sqrt(a).astype(int)\n",
    "print(b)\n",
    "c = a / b\n",
    "print(c)"
   ]
  },
  {
   "cell_type": "code",
   "execution_count": 21,
   "metadata": {},
   "outputs": [
    {
     "data": {
      "image/png": "[encoded data removed]",
      "text/plain": [
       "<Figure size 1500x300 with 5 Axes>"
      ]
     },
     "metadata": {},
     "output_type": "display_data"
    }
   ],
   "source": [
    "import random\n",
    "import matplotlib.pyplot as plt\n",
    "\n",
    "# Select 5 random indices\n",
    "random_indices = random.sample(range(len(x_train)), 5)\n",
    "\n",
    "# Plot the images\n",
    "fig, axes = plt.subplots(1, 5, figsize=(15, 3))\n",
    "\n",
    "for i, ax in enumerate(axes):\n",
    "    # Display the image\n",
    "    ax.imshow(x_train[random_indices[i]], cmap='gray')\n",
    "\n",
    "    # Set the title with the label\n",
    "    ax.set_title(f\"Label: {y_train[random_indices[i]]}\")\n",
    "\n",
    "    # Remove the axis labels\n",
    "    ax.axis('off')\n",
    "\n",
    "# Show the plot\n",
    "plt.show()\n"
   ]
  },
  {
   "cell_type": "markdown",
   "metadata": {},
   "source": [
    "## Preprocessing"
   ]
  },
  {
   "cell_type": "code",
   "execution_count": 43,
   "metadata": {},
   "outputs": [
    {
     "name": "stdout",
     "output_type": "stream",
     "text": [
      "(60000, 576, 5, 5)\n"
     ]
    }
   ],
   "source": [
    "window_size = 5 # 5x5 window\n",
    "step_size = 1   # 1 pixel step\n",
    "height, width = x_train[0].shape\n",
    "num_windows = (int((width-window_size)/step_size)+1, int((height-window_size)/step_size)+1)\n",
    "window_images = np.zeros((len(x_train), np.prod(num_windows), window_size, window_size), dtype=np.float32)\n",
    "\n",
    "\n",
    "for k, image in enumerate(x_train):\n",
    "    for i in range(0, height - window_size + 1, step_size):\n",
    "        for j in range(0, width - window_size + 1, step_size):\n",
    "            window_images[k, i*num_windows[0]+j] = image[i:i+window_size, j:j+window_size]\n",
    "            \n",
    "# window_images = window_images.reshape(window_images.shape[0], window_images.shape[1], -1)\n",
    "print(window_images.shape)"
   ]
  },
  {
   "cell_type": "code",
   "execution_count": 11,
   "metadata": {},
   "outputs": [
    {
     "data": {
      "image/png": "[encoded data removed]",
      "text/plain": [
       "<Figure size 1500x300 with 180 Axes>"
      ]
     },
     "metadata": {},
     "output_type": "display_data"
    }
   ],
   "source": [
    "import matplotlib.pyplot as plt\n",
    "\n",
    "offset = 100\n",
    "\n",
    "fig, axes = plt.subplots(6, 30, figsize=(15, 3))\n",
    "\n",
    "for i, ax in enumerate(axes.flatten()):\n",
    "    ax.imshow(window_images[0][i+offset], cmap='gray')\n",
    "    ax.axis('off')\n",
    "\n",
    "plt.show()\n"
   ]
  },
  {
   "cell_type": "code",
   "execution_count": 12,
   "metadata": {},
   "outputs": [
    {
     "name": "stdout",
     "output_type": "stream",
     "text": [
      "(34560000, 25)\n",
      "(34560000,)\n"
     ]
    }
   ],
   "source": [
    "from sklearn.cluster import KMeans\n",
    "\n",
    "X = window_images.reshape(window_images.shape[0], window_images.shape[1], -1)\n",
    "X = X.reshape(-1, X.shape[-1])\n",
    "print(X.shape)\n",
    "\n",
    "Y_labels = np.zeros(window_images.shape[:2], dtype=np.uint8)\n",
    "for i, num in enumerate(y_train):\n",
    "    Y_labels[i,:] = num\n",
    "Y_labels = Y_labels.reshape(-1)\n",
    "print(Y_labels.shape)\n",
    "\n",
    "# Zero mean and unit variance\n",
    "X -= np.mean(X, axis=0)\n",
    "X /= np.std(X, axis=0)"
   ]
  },
  {
   "cell_type": "markdown",
   "metadata": {},
   "source": [
    "Should we remove zero patches? Not sure..."
   ]
  },
  {
   "cell_type": "code",
   "execution_count": null,
   "metadata": {},
   "outputs": [],
   "source": [
    "# # remove patches with all zeros\n",
    "# mask = np.sum(X, axis=1) != 0\n",
    "# X = X[mask]\n",
    "# Y_labels = Y_labels[mask]"
   ]
  },
  {
   "cell_type": "markdown",
   "metadata": {},
   "source": [
    "Takes 12 minutes"
   ]
  },
  {
   "cell_type": "code",
   "execution_count": 15,
   "metadata": {},
   "outputs": [
    {
     "name": "stdout",
     "output_type": "stream",
     "text": [
      "Initialization complete\n",
      "Iteration 0, inertia 172828960.0.\n",
      "Iteration 1, inertia 137973184.0.\n",
      "Iteration 2, inertia 135122560.0.\n",
      "Iteration 3, inertia 133883368.0.\n",
      "Iteration 4, inertia 133145160.0.\n",
      "Iteration 5, inertia 132564080.0.\n",
      "Iteration 6, inertia 132074080.0.\n",
      "Iteration 7, inertia 131685024.0.\n",
      "Iteration 8, inertia 131384112.0.\n",
      "Iteration 9, inertia 131142792.0.\n",
      "Iteration 10, inertia 130940328.0.\n",
      "Iteration 11, inertia 130766720.0.\n",
      "Iteration 12, inertia 130616784.0.\n",
      "Iteration 13, inertia 130484696.0.\n",
      "Iteration 14, inertia 130370944.0.\n",
      "Iteration 15, inertia 130270880.0.\n",
      "Iteration 16, inertia 130186400.0.\n",
      "Iteration 17, inertia 130112576.0.\n",
      "Iteration 18, inertia 130049792.0.\n",
      "Iteration 19, inertia 129995968.0.\n",
      "Iteration 20, inertia 129948256.0.\n",
      "Iteration 21, inertia 129907680.0.\n",
      "Iteration 22, inertia 129872728.0.\n",
      "Iteration 23, inertia 129840616.0.\n",
      "Iteration 24, inertia 129812456.0.\n",
      "Iteration 25, inertia 129786968.0.\n",
      "Iteration 26, inertia 129763008.0.\n",
      "Iteration 27, inertia 129739504.0.\n",
      "Iteration 28, inertia 129714704.0.\n",
      "Iteration 29, inertia 129678488.0.\n",
      "Iteration 30, inertia 129644120.0.\n",
      "Iteration 31, inertia 129612968.0.\n",
      "Iteration 32, inertia 129587056.0.\n",
      "Iteration 33, inertia 129563632.0.\n",
      "Iteration 34, inertia 129543168.0.\n",
      "Iteration 35, inertia 129524416.0.\n",
      "Iteration 36, inertia 129506736.0.\n",
      "Iteration 37, inertia 129489448.0.\n",
      "Iteration 38, inertia 129472632.0.\n",
      "Iteration 39, inertia 129455680.0.\n",
      "Iteration 40, inertia 129439912.0.\n",
      "Iteration 41, inertia 129423160.0.\n",
      "Iteration 42, inertia 129406512.0.\n",
      "Iteration 43, inertia 129391104.0.\n",
      "Iteration 44, inertia 129375240.0.\n",
      "Iteration 45, inertia 129359960.0.\n",
      "Iteration 46, inertia 129345680.0.\n",
      "Iteration 47, inertia 129331480.0.\n",
      "Iteration 48, inertia 129317216.0.\n",
      "Iteration 49, inertia 129304448.0.\n",
      "Iteration 50, inertia 129292392.0.\n",
      "Iteration 51, inertia 129279960.0.\n",
      "Iteration 52, inertia 129268264.0.\n",
      "Iteration 53, inertia 129256336.0.\n",
      "Iteration 54, inertia 129244768.0.\n",
      "Iteration 55, inertia 129233088.0.\n",
      "Iteration 56, inertia 129222496.0.\n",
      "Iteration 57, inertia 129210568.0.\n",
      "Iteration 58, inertia 129199536.0.\n",
      "Iteration 59, inertia 129189000.0.\n",
      "Iteration 60, inertia 129177960.0.\n",
      "Iteration 61, inertia 129166096.0.\n",
      "Iteration 62, inertia 129155376.0.\n",
      "Iteration 63, inertia 129144856.0.\n",
      "Iteration 64, inertia 129134216.0.\n",
      "Iteration 65, inertia 129123032.0.\n",
      "Iteration 66, inertia 129112176.0.\n",
      "Iteration 67, inertia 129100368.0.\n",
      "Iteration 68, inertia 129087144.0.\n",
      "Iteration 69, inertia 129074312.0.\n",
      "Iteration 70, inertia 129059064.0.\n",
      "Iteration 71, inertia 129041984.0.\n",
      "Iteration 72, inertia 129018616.0.\n",
      "Iteration 73, inertia 128990344.0.\n",
      "Iteration 74, inertia 128955704.0.\n",
      "Iteration 75, inertia 128921944.0.\n",
      "Iteration 76, inertia 128894480.0.\n",
      "Iteration 77, inertia 128874624.0.\n",
      "Iteration 78, inertia 128859584.0.\n",
      "Iteration 79, inertia 128848336.0.\n",
      "Iteration 80, inertia 128840160.0.\n",
      "Iteration 81, inertia 128832528.0.\n",
      "Iteration 82, inertia 128826056.0.\n",
      "Iteration 83, inertia 128820480.0.\n",
      "Iteration 84, inertia 128815296.0.\n",
      "Iteration 85, inertia 128810856.0.\n",
      "Iteration 86, inertia 128806832.0.\n",
      "Iteration 87, inertia 128802976.0.\n",
      "Iteration 88, inertia 128798704.0.\n",
      "Iteration 89, inertia 128795096.0.\n",
      "Iteration 90, inertia 128791936.0.\n",
      "Iteration 91, inertia 128788392.0.\n",
      "Iteration 92, inertia 128785320.0.\n",
      "Iteration 93, inertia 128783296.0.\n",
      "Iteration 94, inertia 128780368.0.\n",
      "Iteration 95, inertia 128778736.0.\n",
      "Iteration 96, inertia 128777640.0.\n",
      "Iteration 97, inertia 128775824.0.\n",
      "Iteration 98, inertia 128774472.0.\n",
      "Iteration 99, inertia 128772816.0.\n",
      "Iteration 100, inertia 128771232.0.\n",
      "Iteration 101, inertia 128770144.0.\n",
      "Iteration 102, inertia 128769120.0.\n",
      "Iteration 103, inertia 128768032.0.\n",
      "Iteration 104, inertia 128767616.0.\n",
      "Iteration 105, inertia 128766856.0.\n",
      "Iteration 106, inertia 128766336.0.\n",
      "Iteration 107, inertia 128765808.0.\n",
      "Iteration 108, inertia 128765096.0.\n",
      "Iteration 109, inertia 128764632.0.\n",
      "Iteration 110, inertia 128763904.0.\n",
      "Iteration 111, inertia 128762936.0.\n",
      "Iteration 112, inertia 128762424.0.\n",
      "Iteration 113, inertia 128761776.0.\n",
      "Iteration 114, inertia 128761520.0.\n",
      "Iteration 115, inertia 128760544.0.\n",
      "Iteration 116, inertia 128759792.0.\n",
      "Iteration 117, inertia 128759048.0.\n",
      "Iteration 118, inertia 128758272.0.\n",
      "Iteration 119, inertia 128757712.0.\n",
      "Iteration 120, inertia 128756896.0.\n",
      "Iteration 121, inertia 128756384.0.\n",
      "Iteration 122, inertia 128755256.0.\n",
      "Iteration 123, inertia 128753992.0.\n",
      "Iteration 124, inertia 128752888.0.\n",
      "Iteration 125, inertia 128751504.0.\n",
      "Iteration 126, inertia 128750240.0.\n",
      "Iteration 127, inertia 128748904.0.\n",
      "Iteration 128, inertia 128746560.0.\n",
      "Iteration 129, inertia 128744056.0.\n",
      "Iteration 130, inertia 128740992.0.\n",
      "Iteration 131, inertia 128737712.0.\n",
      "Iteration 132, inertia 128734920.0.\n",
      "Iteration 133, inertia 128732360.0.\n",
      "Iteration 134, inertia 128729856.0.\n",
      "Iteration 135, inertia 128727592.0.\n",
      "Iteration 136, inertia 128725624.0.\n",
      "Iteration 137, inertia 128723704.0.\n",
      "Iteration 138, inertia 128721880.0.\n",
      "Iteration 139, inertia 128720088.0.\n",
      "Iteration 140, inertia 128718440.0.\n",
      "Iteration 141, inertia 128717096.0.\n",
      "Iteration 142, inertia 128715792.0.\n",
      "Iteration 143, inertia 128714736.0.\n",
      "Iteration 144, inertia 128713176.0.\n",
      "Iteration 145, inertia 128712224.0.\n",
      "Iteration 146, inertia 128710792.0.\n",
      "Iteration 147, inertia 128709704.0.\n",
      "Iteration 148, inertia 128708440.0.\n",
      "Iteration 149, inertia 128707504.0.\n",
      "Iteration 150, inertia 128706128.0.\n",
      "Iteration 151, inertia 128704936.0.\n",
      "Iteration 152, inertia 128703680.0.\n",
      "Iteration 153, inertia 128702432.0.\n",
      "Iteration 154, inertia 128701376.0.\n",
      "Iteration 155, inertia 128699856.0.\n",
      "Iteration 156, inertia 128698528.0.\n",
      "Iteration 157, inertia 128697232.0.\n",
      "Iteration 158, inertia 128695872.0.\n",
      "Iteration 159, inertia 128694608.0.\n",
      "Iteration 160, inertia 128693544.0.\n",
      "Iteration 161, inertia 128691912.0.\n",
      "Iteration 162, inertia 128690512.0.\n",
      "Iteration 163, inertia 128689208.0.\n",
      "Iteration 164, inertia 128688216.0.\n",
      "Iteration 165, inertia 128686648.0.\n",
      "Iteration 166, inertia 128685304.0.\n",
      "Iteration 167, inertia 128684104.0.\n",
      "Iteration 168, inertia 128683088.0.\n",
      "Iteration 169, inertia 128681944.0.\n",
      "Iteration 170, inertia 128680880.0.\n",
      "Iteration 171, inertia 128679928.0.\n",
      "Iteration 172, inertia 128679024.0.\n",
      "Iteration 173, inertia 128677848.0.\n",
      "Iteration 174, inertia 128677016.0.\n",
      "Iteration 175, inertia 128676336.0.\n",
      "Iteration 176, inertia 128675776.0.\n",
      "Iteration 177, inertia 128675376.0.\n",
      "Iteration 178, inertia 128674800.0.\n",
      "Iteration 179, inertia 128674456.0.\n",
      "Iteration 180, inertia 128674104.0.\n",
      "Iteration 181, inertia 128673576.0.\n",
      "Iteration 182, inertia 128673296.0.\n",
      "Iteration 183, inertia 128672816.0.\n",
      "Iteration 184, inertia 128672248.0.\n",
      "Iteration 185, inertia 128671984.0.\n",
      "Iteration 186, inertia 128671464.0.\n",
      "Iteration 187, inertia 128671072.0.\n",
      "Iteration 188, inertia 128670568.0.\n",
      "Iteration 189, inertia 128670488.0.\n",
      "Iteration 190, inertia 128670440.0.\n",
      "Iteration 191, inertia 128670056.0.\n",
      "Iteration 192, inertia 128670072.0.\n",
      "Iteration 193, inertia 128669752.0.\n",
      "Iteration 194, inertia 128669608.0.\n",
      "Iteration 195, inertia 128669560.0.\n",
      "Iteration 196, inertia 128669496.0.\n",
      "Iteration 197, inertia 128669328.0.\n",
      "Iteration 198, inertia 128668976.0.\n",
      "Iteration 199, inertia 128669064.0.\n",
      "Iteration 200, inertia 128668944.0.\n",
      "Iteration 201, inertia 128668648.0.\n",
      "Iteration 202, inertia 128668536.0.\n",
      "Iteration 203, inertia 128668400.0.\n",
      "Iteration 204, inertia 128668384.0.\n",
      "Iteration 205, inertia 128668248.0.\n",
      "Iteration 206, inertia 128668280.0.\n",
      "Iteration 207, inertia 128668128.0.\n",
      "Iteration 208, inertia 128667912.0.\n",
      "Iteration 209, inertia 128667720.0.\n",
      "Iteration 210, inertia 128667632.0.\n",
      "Iteration 211, inertia 128667488.0.\n",
      "Iteration 212, inertia 128667216.0.\n",
      "Iteration 213, inertia 128667072.0.\n",
      "Iteration 214, inertia 128667048.0.\n",
      "Iteration 215, inertia 128666920.0.\n",
      "Iteration 216, inertia 128666608.0.\n",
      "Iteration 217, inertia 128666456.0.\n",
      "Iteration 218, inertia 128666200.0.\n",
      "Iteration 219, inertia 128666080.0.\n",
      "Iteration 220, inertia 128666104.0.\n",
      "Iteration 221, inertia 128665680.0.\n",
      "Iteration 222, inertia 128665448.0.\n",
      "Iteration 223, inertia 128665160.0.\n",
      "Iteration 224, inertia 128664912.0.\n",
      "Iteration 225, inertia 128664624.0.\n",
      "Iteration 226, inertia 128664408.0.\n",
      "Iteration 227, inertia 128664208.0.\n",
      "Iteration 228, inertia 128664112.0.\n",
      "Iteration 229, inertia 128663800.0.\n",
      "Iteration 230, inertia 128663384.0.\n",
      "Iteration 231, inertia 128662904.0.\n",
      "Iteration 232, inertia 128662432.0.\n",
      "Iteration 233, inertia 128662144.0.\n",
      "Iteration 234, inertia 128661936.0.\n",
      "Iteration 235, inertia 128661456.0.\n",
      "Iteration 236, inertia 128660904.0.\n",
      "Iteration 237, inertia 128660592.0.\n",
      "Iteration 238, inertia 128659920.0.\n",
      "Iteration 239, inertia 128659376.0.\n",
      "Iteration 240, inertia 128659048.0.\n",
      "Iteration 241, inertia 128658808.0.\n",
      "Iteration 242, inertia 128658568.0.\n",
      "Iteration 243, inertia 128658328.0.\n",
      "Iteration 244, inertia 128657680.0.\n",
      "Iteration 245, inertia 128657280.0.\n",
      "Iteration 246, inertia 128657032.0.\n",
      "Iteration 247, inertia 128656504.0.\n",
      "Iteration 248, inertia 128656336.0.\n",
      "Iteration 249, inertia 128655888.0.\n",
      "Iteration 250, inertia 128655704.0.\n",
      "Iteration 251, inertia 128655456.0.\n",
      "Iteration 252, inertia 128655144.0.\n",
      "Iteration 253, inertia 128654880.0.\n",
      "Iteration 254, inertia 128654472.0.\n",
      "Iteration 255, inertia 128654312.0.\n",
      "Iteration 256, inertia 128653944.0.\n",
      "Iteration 257, inertia 128653688.0.\n",
      "Iteration 258, inertia 128653552.0.\n",
      "Iteration 259, inertia 128653024.0.\n",
      "Iteration 260, inertia 128652728.0.\n",
      "Iteration 261, inertia 128652232.0.\n",
      "Iteration 262, inertia 128651744.0.\n",
      "Iteration 263, inertia 128651320.0.\n",
      "Iteration 264, inertia 128650728.0.\n",
      "Iteration 265, inertia 128650320.0.\n",
      "Iteration 266, inertia 128650064.0.\n",
      "Iteration 267, inertia 128649408.0.\n",
      "Iteration 268, inertia 128649184.0.\n",
      "Iteration 269, inertia 128648944.0.\n",
      "Iteration 270, inertia 128648600.0.\n",
      "Iteration 271, inertia 128648088.0.\n",
      "Iteration 272, inertia 128647896.0.\n",
      "Iteration 273, inertia 128647704.0.\n",
      "Iteration 274, inertia 128647144.0.\n",
      "Iteration 275, inertia 128646864.0.\n",
      "Iteration 276, inertia 128646552.0.\n",
      "Iteration 277, inertia 128646360.0.\n",
      "Iteration 278, inertia 128645944.0.\n",
      "Iteration 279, inertia 128645560.0.\n",
      "Iteration 280, inertia 128645064.0.\n",
      "Iteration 281, inertia 128644584.0.\n",
      "Iteration 282, inertia 128644288.0.\n",
      "Iteration 283, inertia 128643744.0.\n",
      "Iteration 284, inertia 128643280.0.\n",
      "Iteration 285, inertia 128642984.0.\n",
      "Iteration 286, inertia 128642488.0.\n",
      "Iteration 287, inertia 128642032.0.\n",
      "Iteration 288, inertia 128641792.0.\n",
      "Iteration 289, inertia 128641560.0.\n",
      "Iteration 290, inertia 128640840.0.\n",
      "Iteration 291, inertia 128640432.0.\n",
      "Iteration 292, inertia 128639840.0.\n",
      "Iteration 293, inertia 128639552.0.\n",
      "Iteration 294, inertia 128639112.0.\n",
      "Iteration 295, inertia 128638848.0.\n",
      "Iteration 296, inertia 128638496.0.\n",
      "Iteration 297, inertia 128638248.0.\n",
      "Iteration 298, inertia 128637648.0.\n",
      "Iteration 299, inertia 128637136.0.\n"
     ]
    }
   ],
   "source": [
    "K = 100 # Number of clusters, range from 100 to 10000\n",
    "km = KMeans(n_clusters=K, n_init='auto', verbose=1)\n",
    "Phi = km.fit(X)"
   ]
  },
  {
   "cell_type": "code",
   "execution_count": 19,
   "metadata": {},
   "outputs": [],
   "source": [
    "np.save('Phi.npy', Phi.cluster_centers_)"
   ]
  },
  {
   "cell_type": "code",
   "execution_count": 23,
   "metadata": {},
   "outputs": [],
   "source": [
    "Phi = np.load('Phi.npy')"
   ]
  },
  {
   "cell_type": "code",
   "execution_count": 44,
   "metadata": {},
   "outputs": [
    {
     "name": "stdout",
     "output_type": "stream",
     "text": [
      "(100, 25)\n"
     ]
    }
   ],
   "source": [
    "print(Phi.shape)"
   ]
  },
  {
   "cell_type": "code",
   "execution_count": 59,
   "metadata": {},
   "outputs": [
    {
     "name": "stdout",
     "output_type": "stream",
     "text": [
      "(100, 25)\n"
     ]
    }
   ],
   "source": []
  },
  {
   "cell_type": "code",
   "execution_count": 45,
   "metadata": {},
   "outputs": [
    {
     "data": {
      "image/png": "[encoded data removed]",
      "text/plain": [
       "<Figure size 600x600 with 100 Axes>"
      ]
     },
     "metadata": {},
     "output_type": "display_data"
    }
   ],
   "source": [
    "import matplotlib.pyplot as plt\n",
    "\n",
    "dict_images = km.cluster_centers_.reshape(K, window_size, window_size)\n",
    "fig, axes = plt.subplots(10, 10, figsize=(6, 6))\n",
    "\n",
    "for i, ax in enumerate(axes.flatten()):\n",
    "    ax.imshow(dict_images[i], cmap='gray')\n",
    "    ax.axis('off')\n",
    "\n",
    "plt.show()\n"
   ]
  },
  {
   "cell_type": "markdown",
   "metadata": {},
   "source": [
    "* Should I use the pixels as dimensions? (5*5 = 25) -> yes\n",
    "* or... maybe extract features? Eigenvectors? for dimensions -> no, but can reduce dimensions\n",
    "* Can I use a library for finding the centroids? -> yes\n",
    "* Would I have a codebook (group of centroids) for every image? Maybe group up the codebooks by label -> cluster everything (all pictures with all patches)"
   ]
  },
  {
   "cell_type": "code",
   "execution_count": 53,
   "metadata": {},
   "outputs": [
    {
     "name": "stdout",
     "output_type": "stream",
     "text": [
      "(34560000, 25)\n",
      "(array([], dtype=int64), array([], dtype=int64))\n",
      "(array([], dtype=int64), array([], dtype=int64))\n"
     ]
    },
    {
     "ename": "ValueError",
     "evalue": "Input contains NaN.",
     "output_type": "error",
     "traceback": [
      "\u001b[1;31m---------------------------------------------------------------------------\u001b[0m",
      "\u001b[1;31mValueError\u001b[0m                                Traceback (most recent call last)",
      "Cell \u001b[1;32mIn[53], line 9\u001b[0m\n\u001b[0;32m      7\u001b[0m \u001b[38;5;28mprint\u001b[39m(np\u001b[38;5;241m.\u001b[39mwhere(test \u001b[38;5;241m==\u001b[39m np\u001b[38;5;241m.\u001b[39mNaN))\n\u001b[0;32m      8\u001b[0m \u001b[38;5;28mprint\u001b[39m(np\u001b[38;5;241m.\u001b[39mwhere(Phi \u001b[38;5;241m==\u001b[39m np\u001b[38;5;241m.\u001b[39mNaN))\n\u001b[1;32m----> 9\u001b[0m dist \u001b[38;5;241m=\u001b[39m \u001b[43meuclidean_distances\u001b[49m\u001b[43m(\u001b[49m\u001b[43mtest\u001b[49m\u001b[43m,\u001b[49m\u001b[43m \u001b[49m\u001b[43mPhi\u001b[49m\u001b[43m)\u001b[49m\n\u001b[0;32m     10\u001b[0m \u001b[38;5;28mprint\u001b[39m(dist\u001b[38;5;241m.\u001b[39mshape)\n",
      "File \u001b[1;32m~\\AppData\\Local\\Packages\\PythonSoftwareFoundation.Python.3.11_qbz5n2kfra8p0\\LocalCache\\local-packages\\Python311\\site-packages\\sklearn\\metrics\\pairwise.py:310\u001b[0m, in \u001b[0;36meuclidean_distances\u001b[1;34m(X, Y, Y_norm_squared, squared, X_norm_squared)\u001b[0m\n\u001b[0;32m    234\u001b[0m \u001b[38;5;28;01mdef\u001b[39;00m \u001b[38;5;21meuclidean_distances\u001b[39m(\n\u001b[0;32m    235\u001b[0m     X, Y\u001b[38;5;241m=\u001b[39m\u001b[38;5;28;01mNone\u001b[39;00m, \u001b[38;5;241m*\u001b[39m, Y_norm_squared\u001b[38;5;241m=\u001b[39m\u001b[38;5;28;01mNone\u001b[39;00m, squared\u001b[38;5;241m=\u001b[39m\u001b[38;5;28;01mFalse\u001b[39;00m, X_norm_squared\u001b[38;5;241m=\u001b[39m\u001b[38;5;28;01mNone\u001b[39;00m\n\u001b[0;32m    236\u001b[0m ):\n\u001b[0;32m    237\u001b[0m \u001b[38;5;250m    \u001b[39m\u001b[38;5;124;03m\"\"\"\u001b[39;00m\n\u001b[0;32m    238\u001b[0m \u001b[38;5;124;03m    Compute the distance matrix between each pair from a vector array X and Y.\u001b[39;00m\n\u001b[0;32m    239\u001b[0m \n\u001b[1;32m   (...)\u001b[0m\n\u001b[0;32m    308\u001b[0m \u001b[38;5;124;03m           [1.41421356]])\u001b[39;00m\n\u001b[0;32m    309\u001b[0m \u001b[38;5;124;03m    \"\"\"\u001b[39;00m\n\u001b[1;32m--> 310\u001b[0m     X, Y \u001b[38;5;241m=\u001b[39m \u001b[43mcheck_pairwise_arrays\u001b[49m\u001b[43m(\u001b[49m\u001b[43mX\u001b[49m\u001b[43m,\u001b[49m\u001b[43m \u001b[49m\u001b[43mY\u001b[49m\u001b[43m)\u001b[49m\n\u001b[0;32m    312\u001b[0m     \u001b[38;5;28;01mif\u001b[39;00m X_norm_squared \u001b[38;5;129;01mis\u001b[39;00m \u001b[38;5;129;01mnot\u001b[39;00m \u001b[38;5;28;01mNone\u001b[39;00m:\n\u001b[0;32m    313\u001b[0m         X_norm_squared \u001b[38;5;241m=\u001b[39m check_array(X_norm_squared, ensure_2d\u001b[38;5;241m=\u001b[39m\u001b[38;5;28;01mFalse\u001b[39;00m)\n",
      "File \u001b[1;32m~\\AppData\\Local\\Packages\\PythonSoftwareFoundation.Python.3.11_qbz5n2kfra8p0\\LocalCache\\local-packages\\Python311\\site-packages\\sklearn\\metrics\\pairwise.py:165\u001b[0m, in \u001b[0;36mcheck_pairwise_arrays\u001b[1;34m(X, Y, precomputed, dtype, accept_sparse, force_all_finite, copy)\u001b[0m\n\u001b[0;32m    156\u001b[0m     X \u001b[38;5;241m=\u001b[39m Y \u001b[38;5;241m=\u001b[39m check_array(\n\u001b[0;32m    157\u001b[0m         X,\n\u001b[0;32m    158\u001b[0m         accept_sparse\u001b[38;5;241m=\u001b[39maccept_sparse,\n\u001b[1;32m   (...)\u001b[0m\n\u001b[0;32m    162\u001b[0m         estimator\u001b[38;5;241m=\u001b[39mestimator,\n\u001b[0;32m    163\u001b[0m     )\n\u001b[0;32m    164\u001b[0m \u001b[38;5;28;01melse\u001b[39;00m:\n\u001b[1;32m--> 165\u001b[0m     X \u001b[38;5;241m=\u001b[39m \u001b[43mcheck_array\u001b[49m\u001b[43m(\u001b[49m\n\u001b[0;32m    166\u001b[0m \u001b[43m        \u001b[49m\u001b[43mX\u001b[49m\u001b[43m,\u001b[49m\n\u001b[0;32m    167\u001b[0m \u001b[43m        \u001b[49m\u001b[43maccept_sparse\u001b[49m\u001b[38;5;241;43m=\u001b[39;49m\u001b[43maccept_sparse\u001b[49m\u001b[43m,\u001b[49m\n\u001b[0;32m    168\u001b[0m \u001b[43m        \u001b[49m\u001b[43mdtype\u001b[49m\u001b[38;5;241;43m=\u001b[39;49m\u001b[43mdtype\u001b[49m\u001b[43m,\u001b[49m\n\u001b[0;32m    169\u001b[0m \u001b[43m        \u001b[49m\u001b[43mcopy\u001b[49m\u001b[38;5;241;43m=\u001b[39;49m\u001b[43mcopy\u001b[49m\u001b[43m,\u001b[49m\n\u001b[0;32m    170\u001b[0m \u001b[43m        \u001b[49m\u001b[43mforce_all_finite\u001b[49m\u001b[38;5;241;43m=\u001b[39;49m\u001b[43mforce_all_finite\u001b[49m\u001b[43m,\u001b[49m\n\u001b[0;32m    171\u001b[0m \u001b[43m        \u001b[49m\u001b[43mestimator\u001b[49m\u001b[38;5;241;43m=\u001b[39;49m\u001b[43mestimator\u001b[49m\u001b[43m,\u001b[49m\n\u001b[0;32m    172\u001b[0m \u001b[43m    \u001b[49m\u001b[43m)\u001b[49m\n\u001b[0;32m    173\u001b[0m     Y \u001b[38;5;241m=\u001b[39m check_array(\n\u001b[0;32m    174\u001b[0m         Y,\n\u001b[0;32m    175\u001b[0m         accept_sparse\u001b[38;5;241m=\u001b[39maccept_sparse,\n\u001b[1;32m   (...)\u001b[0m\n\u001b[0;32m    179\u001b[0m         estimator\u001b[38;5;241m=\u001b[39mestimator,\n\u001b[0;32m    180\u001b[0m     )\n\u001b[0;32m    182\u001b[0m \u001b[38;5;28;01mif\u001b[39;00m precomputed:\n",
      "File \u001b[1;32m~\\AppData\\Local\\Packages\\PythonSoftwareFoundation.Python.3.11_qbz5n2kfra8p0\\LocalCache\\local-packages\\Python311\\site-packages\\sklearn\\utils\\validation.py:957\u001b[0m, in \u001b[0;36mcheck_array\u001b[1;34m(array, accept_sparse, accept_large_sparse, dtype, order, copy, force_all_finite, ensure_2d, allow_nd, ensure_min_samples, ensure_min_features, estimator, input_name)\u001b[0m\n\u001b[0;32m    951\u001b[0m         \u001b[38;5;28;01mraise\u001b[39;00m \u001b[38;5;167;01mValueError\u001b[39;00m(\n\u001b[0;32m    952\u001b[0m             \u001b[38;5;124m\"\u001b[39m\u001b[38;5;124mFound array with dim \u001b[39m\u001b[38;5;132;01m%d\u001b[39;00m\u001b[38;5;124m. \u001b[39m\u001b[38;5;132;01m%s\u001b[39;00m\u001b[38;5;124m expected <= 2.\u001b[39m\u001b[38;5;124m\"\u001b[39m\n\u001b[0;32m    953\u001b[0m             \u001b[38;5;241m%\u001b[39m (array\u001b[38;5;241m.\u001b[39mndim, estimator_name)\n\u001b[0;32m    954\u001b[0m         )\n\u001b[0;32m    956\u001b[0m     \u001b[38;5;28;01mif\u001b[39;00m force_all_finite:\n\u001b[1;32m--> 957\u001b[0m         \u001b[43m_assert_all_finite\u001b[49m\u001b[43m(\u001b[49m\n\u001b[0;32m    958\u001b[0m \u001b[43m            \u001b[49m\u001b[43marray\u001b[49m\u001b[43m,\u001b[49m\n\u001b[0;32m    959\u001b[0m \u001b[43m            \u001b[49m\u001b[43minput_name\u001b[49m\u001b[38;5;241;43m=\u001b[39;49m\u001b[43minput_name\u001b[49m\u001b[43m,\u001b[49m\n\u001b[0;32m    960\u001b[0m \u001b[43m            \u001b[49m\u001b[43mestimator_name\u001b[49m\u001b[38;5;241;43m=\u001b[39;49m\u001b[43mestimator_name\u001b[49m\u001b[43m,\u001b[49m\n\u001b[0;32m    961\u001b[0m \u001b[43m            \u001b[49m\u001b[43mallow_nan\u001b[49m\u001b[38;5;241;43m=\u001b[39;49m\u001b[43mforce_all_finite\u001b[49m\u001b[43m \u001b[49m\u001b[38;5;241;43m==\u001b[39;49m\u001b[43m \u001b[49m\u001b[38;5;124;43m\"\u001b[39;49m\u001b[38;5;124;43mallow-nan\u001b[39;49m\u001b[38;5;124;43m\"\u001b[39;49m\u001b[43m,\u001b[49m\n\u001b[0;32m    962\u001b[0m \u001b[43m        \u001b[49m\u001b[43m)\u001b[49m\n\u001b[0;32m    964\u001b[0m \u001b[38;5;28;01mif\u001b[39;00m ensure_min_samples \u001b[38;5;241m>\u001b[39m \u001b[38;5;241m0\u001b[39m:\n\u001b[0;32m    965\u001b[0m     n_samples \u001b[38;5;241m=\u001b[39m _num_samples(array)\n",
      "File \u001b[1;32m~\\AppData\\Local\\Packages\\PythonSoftwareFoundation.Python.3.11_qbz5n2kfra8p0\\LocalCache\\local-packages\\Python311\\site-packages\\sklearn\\utils\\validation.py:122\u001b[0m, in \u001b[0;36m_assert_all_finite\u001b[1;34m(X, allow_nan, msg_dtype, estimator_name, input_name)\u001b[0m\n\u001b[0;32m    119\u001b[0m \u001b[38;5;28;01mif\u001b[39;00m first_pass_isfinite:\n\u001b[0;32m    120\u001b[0m     \u001b[38;5;28;01mreturn\u001b[39;00m\n\u001b[1;32m--> 122\u001b[0m \u001b[43m_assert_all_finite_element_wise\u001b[49m\u001b[43m(\u001b[49m\n\u001b[0;32m    123\u001b[0m \u001b[43m    \u001b[49m\u001b[43mX\u001b[49m\u001b[43m,\u001b[49m\n\u001b[0;32m    124\u001b[0m \u001b[43m    \u001b[49m\u001b[43mxp\u001b[49m\u001b[38;5;241;43m=\u001b[39;49m\u001b[43mxp\u001b[49m\u001b[43m,\u001b[49m\n\u001b[0;32m    125\u001b[0m \u001b[43m    \u001b[49m\u001b[43mallow_nan\u001b[49m\u001b[38;5;241;43m=\u001b[39;49m\u001b[43mallow_nan\u001b[49m\u001b[43m,\u001b[49m\n\u001b[0;32m    126\u001b[0m \u001b[43m    \u001b[49m\u001b[43mmsg_dtype\u001b[49m\u001b[38;5;241;43m=\u001b[39;49m\u001b[43mmsg_dtype\u001b[49m\u001b[43m,\u001b[49m\n\u001b[0;32m    127\u001b[0m \u001b[43m    \u001b[49m\u001b[43mestimator_name\u001b[49m\u001b[38;5;241;43m=\u001b[39;49m\u001b[43mestimator_name\u001b[49m\u001b[43m,\u001b[49m\n\u001b[0;32m    128\u001b[0m \u001b[43m    \u001b[49m\u001b[43minput_name\u001b[49m\u001b[38;5;241;43m=\u001b[39;49m\u001b[43minput_name\u001b[49m\u001b[43m,\u001b[49m\n\u001b[0;32m    129\u001b[0m \u001b[43m\u001b[49m\u001b[43m)\u001b[49m\n",
      "File \u001b[1;32m~\\AppData\\Local\\Packages\\PythonSoftwareFoundation.Python.3.11_qbz5n2kfra8p0\\LocalCache\\local-packages\\Python311\\site-packages\\sklearn\\utils\\validation.py:171\u001b[0m, in \u001b[0;36m_assert_all_finite_element_wise\u001b[1;34m(X, xp, allow_nan, msg_dtype, estimator_name, input_name)\u001b[0m\n\u001b[0;32m    154\u001b[0m \u001b[38;5;28;01mif\u001b[39;00m estimator_name \u001b[38;5;129;01mand\u001b[39;00m input_name \u001b[38;5;241m==\u001b[39m \u001b[38;5;124m\"\u001b[39m\u001b[38;5;124mX\u001b[39m\u001b[38;5;124m\"\u001b[39m \u001b[38;5;129;01mand\u001b[39;00m has_nan_error:\n\u001b[0;32m    155\u001b[0m     \u001b[38;5;66;03m# Improve the error message on how to handle missing values in\u001b[39;00m\n\u001b[0;32m    156\u001b[0m     \u001b[38;5;66;03m# scikit-learn.\u001b[39;00m\n\u001b[0;32m    157\u001b[0m     msg_err \u001b[38;5;241m+\u001b[39m\u001b[38;5;241m=\u001b[39m (\n\u001b[0;32m    158\u001b[0m         \u001b[38;5;124mf\u001b[39m\u001b[38;5;124m\"\u001b[39m\u001b[38;5;130;01m\\n\u001b[39;00m\u001b[38;5;132;01m{\u001b[39;00mestimator_name\u001b[38;5;132;01m}\u001b[39;00m\u001b[38;5;124m does not accept missing values\u001b[39m\u001b[38;5;124m\"\u001b[39m\n\u001b[0;32m    159\u001b[0m         \u001b[38;5;124m\"\u001b[39m\u001b[38;5;124m encoded as NaN natively. For supervised learning, you might want\u001b[39m\u001b[38;5;124m\"\u001b[39m\n\u001b[1;32m   (...)\u001b[0m\n\u001b[0;32m    169\u001b[0m         \u001b[38;5;124m\"\u001b[39m\u001b[38;5;124m#estimators-that-handle-nan-values\u001b[39m\u001b[38;5;124m\"\u001b[39m\n\u001b[0;32m    170\u001b[0m     )\n\u001b[1;32m--> 171\u001b[0m \u001b[38;5;28;01mraise\u001b[39;00m \u001b[38;5;167;01mValueError\u001b[39;00m(msg_err)\n",
      "\u001b[1;31mValueError\u001b[0m: Input contains NaN."
     ]
    }
   ],
   "source": [
    "from sklearn.metrics import euclidean_distances \n",
    "test = window_images.reshape(window_images.shape[0], window_images.shape[1], -1)\n",
    "test = test.reshape(-1, test.shape[-1])\n",
    "print(test.shape)\n",
    "test -= np.mean(test, axis=0)\n",
    "test /= np.std(test, axis=0)\n",
    "print(np.where(test == np.NaN))\n",
    "print(np.where(Phi == np.NaN))\n",
    "dist = euclidean_distances(test, Phi)\n",
    "print(dist.shape)"
   ]
  },
  {
   "cell_type": "code",
   "execution_count": null,
   "metadata": {},
   "outputs": [],
   "source": []
  }
 ],
 "metadata": {
  "kernelspec": {
   "display_name": ".venv",
   "language": "python",
   "name": "python3"
  },
  "language_info": {
   "codemirror_mode": {
    "name": "ipython",
    "version": 3
   },
   "file_extension": ".py",
   "mimetype": "text/x-python",
   "name": "python",
   "nbconvert_exporter": "python",
   "pygments_lexer": "ipython3",
   "version": "3.11.9"
  }
 },
 "nbformat": 4,
 "nbformat_minor": 2
}
